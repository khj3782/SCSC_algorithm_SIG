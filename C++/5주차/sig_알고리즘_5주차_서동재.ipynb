{
  "nbformat": 4,
  "nbformat_minor": 0,
  "metadata": {
    "colab": {
      "name": "sig 알고리즘 5주차_서동재.ipynb",
      "provenance": [],
      "collapsed_sections": []
    },
    "kernelspec": {
      "name": "python3",
      "display_name": "Python 3"
    },
    "language_info": {
      "name": "python"
    }
  },
  "cells": [
    {
      "cell_type": "code",
      "execution_count": 1,
      "metadata": {
        "id": "BFFTGPSTzRpg"
      },
      "outputs": [],
      "source": [
        "#1463\n",
        "def make_one(n):\n",
        "    for i in range(2, n + 1):\n",
        "        dp[i] = dp[i - 1] + 1\n",
        "        if i % 3 == 0 and dp[i] > dp[i // 3] + 1:\n",
        "            dp[i] = dp[i // 3] + 1\n",
        "        if i % 2 == 0 and dp[i] > dp[i // 2] + 1:\n",
        "            dp[i] = dp[i // 2] + 1\n",
        "    return dp[n]\n",
        "\n",
        "dp = [0] * int(10e6 + 1)\n",
        "N = int(input())\n",
        "result = make_one(N)\n",
        "print(result)"
      ]
    },
    {
      "cell_type": "code",
      "source": [
        "#11726\n",
        "memo = [0] * 1001\n",
        "def f(n):\n",
        "  if memo[n] > 0:\n",
        "    return memo[n]\n",
        "  if n <= 2:\n",
        "    memo[n] = n\n",
        "    return memo[n]\n",
        "  else:\n",
        "    memo[n] = f(n-1) + f(n-2)\n",
        "    return memo[n]\n",
        "\n",
        "N= int(input())\n",
        "print(f(N) % 10007)"
      ],
      "metadata": {
        "id": "Wuz8KfEjzXQT"
      },
      "execution_count": null,
      "outputs": []
    },
    {
      "cell_type": "code",
      "source": [
        "#11727\n",
        "dp = [0] * 1001\n",
        "for i in range(1, 1001):\n",
        "  if i == 1:\n",
        "    dp[i] = 1\n",
        "  elif i == 2:\n",
        "    dp[i] = 3\n",
        "  else:\n",
        "    dp[i] = dp[i-1] + 2 * dp[i-2]\n",
        "\n",
        "N = int(input())\n",
        "print(dp[N] % 10007)"
      ],
      "metadata": {
        "id": "pdc_QN9sznCT"
      },
      "execution_count": null,
      "outputs": []
    },
    {
      "cell_type": "code",
      "source": [
        "#9095\n",
        "dp = [0] * 11\n",
        "for i in range(1, 11):\n",
        "  if i == 1:\n",
        "    dp[i] = 1\n",
        "  elif i == 2:\n",
        "    dp[i] = 2\n",
        "  elif i == 3:\n",
        "    dp[i] = 4\n",
        "  else:\n",
        "    dp[i] = dp[i-1] + dp[i-2] + dp[i-3]\n",
        "\n",
        "T = int(input())\n",
        "for i in range(T):\n",
        "  N = int(input())\n",
        "  print(dp[N])"
      ],
      "metadata": {
        "id": "psDIA0F_zoL1"
      },
      "execution_count": null,
      "outputs": []
    },
    {
      "cell_type": "code",
      "source": [
        "#11052\n",
        "N = int(input())\n",
        "num_list = input().split()\n",
        "dp = [0] * (N+1)\n",
        "for i in range(1, N+1):\n",
        "  temp_list = []\n",
        "  if i == 1:\n",
        "    dp[i] = int(num_list[0])\n",
        "  elif i == 2:\n",
        "    dp[i] = max(int(num_list[0]) * 2, int(num_list[1]))\n",
        "  else:\n",
        "    for j in range(1, N+1):\n",
        "      if i >= 2 * j:\n",
        "        temp_list.append(dp[i-j] + dp[j])\n",
        "      else:\n",
        "        continue\n",
        "    temp_list.append(int(num_list[i-1]))\n",
        "    dp[i] = max(temp_list)\n",
        "\n",
        "print(dp[N])"
      ],
      "metadata": {
        "id": "t0_iV9vxzrp6"
      },
      "execution_count": null,
      "outputs": []
    },
    {
      "cell_type": "code",
      "source": [
        "#16194\n",
        "N = int(input())\n",
        "num_list = input().split()\n",
        "dp = [0] * (N+1)\n",
        "for i in range(1, N+1):\n",
        "  temp_list = []\n",
        "  if i == 1:\n",
        "    dp[i] = int(num_list[0])\n",
        "  elif i == 2:\n",
        "    dp[i] = min(int(num_list[0]) * 2, int(num_list[1]))\n",
        "  else:\n",
        "    for j in range(1, N+1):\n",
        "      if i >= 2 * j:\n",
        "        temp_list.append(dp[i-j] + dp[j])\n",
        "      else:\n",
        "        continue\n",
        "    temp_list.append(int(num_list[i-1]))\n",
        "    dp[i] = min(temp_list)\n",
        "\n",
        "print(dp[N])"
      ],
      "metadata": {
        "id": "m58DKtEAzvud"
      },
      "execution_count": null,
      "outputs": []
    },
    {
      "cell_type": "code",
      "source": [
        "#15990\n",
        "#이 문제는 직접 못 풀어서, 구글 참고했습니다\n",
        "t = int(input())\n",
        "n = []\n",
        "for i in range(t):\n",
        "    n.append(int(input()))\n",
        "\n",
        "dp = [[0 for _ in range(3)] for _ in range(100001)]\n",
        "dp[1] = [1, 0, 0]\n",
        "dp[2] = [0, 1, 0]\n",
        "dp[3] = [1, 1, 1]\n",
        "for i in range(4, 100001):\n",
        "    dp[i][0] = dp[i - 1][1] % 1000000009 + dp[i - 1][2] % 1000000009  # 합이 1로 끝나는 것 제외\n",
        "    dp[i][1] = dp[i - 2][0] % 1000000009 + dp[i - 2][2] % 1000000009  # 합이 2로 끝나는 것 제외\n",
        "    dp[i][2] = dp[i - 3][0] % 1000000009 + dp[i - 3][1] % 1000000009  # 합이 3으로 끝나는 것 제외\n",
        "\n",
        "for i in n:\n",
        "    print(sum(dp[i]) % 1000000009)\n",
        "#출처: https://jshong1125.tistory.com/34 [it 공부 기록용 블로그:티스토리]"
      ],
      "metadata": {
        "id": "HZveLb3az0Nf"
      },
      "execution_count": null,
      "outputs": []
    },
    {
      "cell_type": "code",
      "source": [
        "#10844\n",
        "N = int(input())\n",
        "dp = [[0 for i in range(10)] for j in range(101)]\n",
        "\n",
        "for i in range(1, 10):\n",
        "  dp[1][i] = 1\n",
        "\n",
        "for i in range(2, N+1):\n",
        "  for j in range(10):\n",
        "    if j == 0:\n",
        "      dp[i][j] = dp[i-1][1]\n",
        "    elif j == 9:\n",
        "      dp[i][j] = dp[i-1][8]\n",
        "    else:\n",
        "      dp[i][j] = dp[i-1][j+1] + dp[i-1][j-1]\n",
        "\n",
        "print(sum(dp[N]) % 1000000000)"
      ],
      "metadata": {
        "id": "K9-ErHy8z7f-"
      },
      "execution_count": null,
      "outputs": []
    },
    {
      "cell_type": "code",
      "source": [
        "#2193\n",
        "dp = [0] * 91\n",
        "for i in range(1, 91):\n",
        "  if i == 1:\n",
        "    dp[i] = 1\n",
        "  elif i == 2:\n",
        "    dp[i] = 1\n",
        "  else:\n",
        "    dp[i] = dp[i-1] + dp[i-2]\n",
        "\n",
        "N = int(input())\n",
        "print(dp[N])"
      ],
      "metadata": {
        "id": "Q1dop8CNz-2S"
      },
      "execution_count": null,
      "outputs": []
    }
  ]
}
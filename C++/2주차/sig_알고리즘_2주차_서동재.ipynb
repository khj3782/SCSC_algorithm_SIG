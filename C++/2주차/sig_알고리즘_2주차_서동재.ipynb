{
  "nbformat": 4,
  "nbformat_minor": 0,
  "metadata": {
    "colab": {
      "name": "sig 알고리즘 2주차.ipynb",
      "provenance": [],
      "collapsed_sections": []
    },
    "kernelspec": {
      "name": "python3",
      "display_name": "Python 3"
    },
    "language_info": {
      "name": "python"
    }
  },
  "cells": [
    {
      "cell_type": "code",
      "source": [
        "# 10808\n",
        "S = list(input())\n",
        "num_list = [0] * 26\n",
        "for i in S:\n",
        "  num_list[ord(i)-97] = num_list[ord(i)-97] + 1\n",
        "\n",
        "print(*num_list)"
      ],
      "metadata": {
        "id": "58CU_lbUDgUj"
      },
      "execution_count": null,
      "outputs": []
    },
    {
      "cell_type": "code",
      "source": [
        "# 10809\n",
        "S = input()\n",
        "new_list = []\n",
        "alpha_list = ['a', 'b', 'c', 'd', 'e', 'f', 'g', 'h','i', 'j', 'k', 'l', 'm', 'n', 'o', 'p', 'q', 'r', 's', 't', 'u', 'v', 'w', 'x', 'y', 'z']\n",
        "for i in alpha_list :\n",
        " a = S.find(i)\n",
        " new_list.append(a)\n",
        " t1 = tuple(new_list)\n",
        "print(t1[0], t1[1], t1[2], t1[3], t1[4], t1[5], t1[6], t1[7],t1[8], t1[9], t1[10], t1[11], t1[12], t1[13], t1[14], t1[15], t1[16], t1[17],t1[18],t1[19], t1[20], t1[21], t1[22], t1[23], t1[24], t1[25])"
      ],
      "metadata": {
        "id": "YmZyQPHeDm0v"
      },
      "execution_count": null,
      "outputs": []
    },
    {
      "cell_type": "code",
      "source": [
        "# 10820\n",
        "while True:\n",
        "  try:\n",
        "    S = list(input())\n",
        "    num_list = [0] * 4\n",
        "    for j in S:\n",
        "      if ord(j) == 32:\n",
        "        num_list[3] += 1\n",
        "      elif 48 <= ord(j) <= 57:\n",
        "        num_list[2] += 1  \n",
        "      elif 65 <= ord(j) <= 90:\n",
        "        num_list[1] += 1\n",
        "      else:\n",
        "        num_list[0] += 1\n",
        "\n",
        "    print(*num_list)\n",
        "    \n",
        "  except EOFError:\n",
        "    break"
      ],
      "metadata": {
        "id": "ut4U81TbDtoV"
      },
      "execution_count": null,
      "outputs": []
    },
    {
      "cell_type": "code",
      "source": [
        "#2743\n",
        "S = input()\n",
        "print(len(S))"
      ],
      "metadata": {
        "id": "sSKCjY6iDz58"
      },
      "execution_count": null,
      "outputs": []
    },
    {
      "cell_type": "code",
      "source": [
        "#11655\n",
        "S = input()\n",
        "result = ''\n",
        "for i in S:\n",
        "  if ord(i) == 32:\n",
        "    result = result + chr(ord(i))\n",
        "  elif 65 <= ord(i) <= 77:\n",
        "    result = result + chr(ord(i) + 13)\n",
        "  elif 78 <= ord(i) <= 90:\n",
        "    result = result + chr(ord(i) - 13)\n",
        "  elif 97 <= ord(i) <= 109:\n",
        "    result = result + chr(ord(i) + 13)\n",
        "  elif 110 <= ord(i) <= 122:\n",
        "    result = result + chr(ord(i) - 13)\n",
        "  else:\n",
        "    result = result + i\n",
        "\n",
        "print(result)"
      ],
      "metadata": {
        "id": "EhBAzOh-D6x1"
      },
      "execution_count": null,
      "outputs": []
    },
    {
      "cell_type": "code",
      "source": [
        "#10824\n",
        "num_list = list(input().split())\n",
        "num1 = num_list[0] + num_list[1]\n",
        "num2 = num_list[2] + num_list[3]\n",
        "print(int(num1) + int(num2))"
      ],
      "metadata": {
        "id": "hn7g0VJaEB7d"
      },
      "execution_count": null,
      "outputs": []
    },
    {
      "cell_type": "code",
      "source": [
        "#11656\n",
        "S = input()\n",
        "result = []\n",
        "for i in range(len(S)):\n",
        "  result.append(S[i:])\n",
        "\n",
        "result.sort()\n",
        "for i in result:\n",
        "  print(i)"
      ],
      "metadata": {
        "id": "ulI6wjGTEH_1"
      },
      "execution_count": null,
      "outputs": []
    }
  ]
}
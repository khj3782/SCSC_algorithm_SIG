{
  "nbformat": 4,
  "nbformat_minor": 0,
  "metadata": {
    "colab": {
      "name": "scsc 알고리즘 4주차.ipynb",
      "provenance": [],
      "collapsed_sections": []
    },
    "kernelspec": {
      "name": "python3",
      "display_name": "Python 3"
    },
    "language_info": {
      "name": "python"
    }
  },
  "cells": [
    {
      "cell_type": "code",
      "execution_count": null,
      "metadata": {
        "id": "eA6SvZTG9b_N"
      },
      "outputs": [],
      "source": [
        "#9613\n",
        "import sys\n",
        "input = sys.stdin.readline\n",
        "\n",
        "t = int(input())\n",
        "\n",
        "def FindGcd(a, b):\n",
        "  while b != 0:\n",
        "    a, b = b, a%b\n",
        "  return a\n",
        "\n",
        "\n",
        "for i in range(t):\n",
        "  num_list = list(map(int, input().split()))\n",
        "  num = 0\n",
        "  for j in range(1, len(num_list)):\n",
        "    for k in range(1, len(num_list)):\n",
        "      if j < k:\n",
        "        num += FindGcd(num_list[j], num_list[k])\n",
        "  print(num)"
      ]
    },
    {
      "cell_type": "code",
      "source": [
        "#17087\n",
        "import sys\n",
        "input = sys.stdin.readline\n",
        "\n",
        "N, S = map(int, input().split())\n",
        "num_list = list(map(int, input().split()))\n",
        "\n",
        "def FindGcd(a,b):\n",
        "  while b!=0:\n",
        "    a, b = b, a%b\n",
        "  return a\n",
        "\n",
        "for i in range(len(num_list)):\n",
        "  num_list[i] = abs(num_list[i] - S)\n",
        "\n",
        "temp = num_list[0]\n",
        "for i in range(len(num_list)):\n",
        "  temp = FindGcd(temp, num_list[i])\n",
        "print(temp)"
      ],
      "metadata": {
        "id": "-ZFqYvQe9e0c"
      },
      "execution_count": null,
      "outputs": []
    },
    {
      "cell_type": "code",
      "source": [
        "#1373\n",
        "N = input()\n",
        "print(oct(int(N, 2))[2:])"
      ],
      "metadata": {
        "id": "-w92kPkd9lbu"
      },
      "execution_count": null,
      "outputs": []
    },
    {
      "cell_type": "code",
      "source": [
        "#1212\n",
        "N = input()\n",
        "print(bin(int(N, 8))[2:])"
      ],
      "metadata": {
        "id": "TN3QQu8D9pYO"
      },
      "execution_count": null,
      "outputs": []
    },
    {
      "cell_type": "code",
      "source": [
        "#2089\n",
        "import sys\n",
        "input = sys.stdin.readline\n",
        "\n",
        "N = int(input())\n",
        "result = ''\n",
        "    \n",
        "while N != 0:\n",
        "  if (N-1) % (-2) == 0:\n",
        "    result = '1' + result\n",
        "    N = (N-1) // (-2)\n",
        "  else:\n",
        "    result = '0' + result \n",
        "    N = N // (-2)\n",
        "    \n",
        "if result == '':\n",
        "    result = '0'\n",
        "    \n",
        "print(result)"
      ],
      "metadata": {
        "id": "r0L6Qku29skO"
      },
      "execution_count": null,
      "outputs": []
    },
    {
      "cell_type": "code",
      "source": [
        "#17103\n",
        "import sys\n",
        "input = sys.stdin.readline\n",
        "\n",
        "check_list = [0] * 1000001\n",
        "for i in range(1, 500001):\n",
        "  if i == 1:\n",
        "    continue\n",
        "  else:\n",
        "    if check_list[i] == 0:\n",
        "      j = i\n",
        "      k = i\n",
        "      while j < 1000001:\n",
        "        j = j + k\n",
        "        if j < 1000001:\n",
        "          check_list[j] = 1\n",
        "    else:\n",
        "      continue\n",
        "\n",
        "T = int(input())\n",
        "for i in range(T):\n",
        "  N = int(input())\n",
        "  num = 0\n",
        "  n = 3\n",
        "  if N == 2:\n",
        "    print(0)\n",
        "    continue\n",
        "  elif N == 4:\n",
        "    print(1)\n",
        "    continue\n",
        "    \n",
        "  while 2 * n <= N:\n",
        "    if check_list[n] == 0 and check_list[N-n] == 0:\n",
        "      num = num + 1\n",
        "    n = n + 2\n",
        "  print(num)"
      ],
      "metadata": {
        "id": "HWqEvfra9xt8"
      },
      "execution_count": null,
      "outputs": []
    },
    {
      "cell_type": "code",
      "source": [
        "#11005\n",
        "import sys\n",
        "input = sys.stdin.readline\n",
        "\n",
        "new_list = input().split()\n",
        "N = int(new_list[0])\n",
        "B = int(new_list[1])\n",
        "result = ''\n",
        "while N // B != 0:\n",
        "  temp = N % B\n",
        "  N = N // B\n",
        "  if temp < 10:\n",
        "    result = result + str(temp)\n",
        "  else:\n",
        "    temp = chr(temp + 55)\n",
        "    result = result + str(temp)\n",
        "\n",
        "if N < 10:\n",
        "  result = result + str(N)\n",
        "else:\n",
        "  N = chr(N + 55)\n",
        "  result = result + str(N)\n",
        "\n",
        "print(result[::-1])\n"
      ],
      "metadata": {
        "id": "hHKd7cBq90JK"
      },
      "execution_count": null,
      "outputs": []
    },
    {
      "cell_type": "code",
      "source": [
        "#2745\n",
        "new_list = input().split()\n",
        "\n",
        "num = 0\n",
        "for i in range(len(new_list[0])):\n",
        "  num = num + int(new_list[0][len(new_list[0]) - i - 1], int(new_list[1])) * int(new_list[1]) ** i\n",
        "\n",
        "print(num)"
      ],
      "metadata": {
        "id": "wmqw7MN-9354"
      },
      "execution_count": null,
      "outputs": []
    },
    {
      "cell_type": "code",
      "source": [
        "#11576\n",
        "import sys\n",
        "input = sys.stdin.readline\n",
        "\n",
        "A, B = map(int, input().split())\n",
        "m =int(input())\n",
        "num_list = map(int, input().split())\n",
        "num = ''\n",
        "for i in num_list:\n",
        "  if i < 10:\n",
        "    num = num + str(i)\n",
        "  else:\n",
        "    num = num + chr(i+55)\n",
        "\n",
        "num = int(num, A)\n",
        "new_list = []\n",
        "\n",
        "while num != 0:\n",
        "  temp = num % B\n",
        "  num = num // B\n",
        "  new_list.append(temp)\n",
        "\n",
        "print(*new_list[::-1])"
      ],
      "metadata": {
        "id": "S1hBGprF96vm"
      },
      "execution_count": null,
      "outputs": []
    },
    {
      "cell_type": "code",
      "source": [
        "#11653\n",
        "import sys\n",
        "input = sys.stdin.readline\n",
        "\n",
        "N = int(input())\n",
        "check_list = [0] * 3163\n",
        "for i in range(1, 3163):\n",
        "  if i == 1:\n",
        "    continue\n",
        "  else:\n",
        "    if check_list[i] == 0:\n",
        "      j = i\n",
        "      k = i\n",
        "      while j < 3163:\n",
        "        j = j + k\n",
        "        if j < 3163:\n",
        "          check_list[j] = 1\n",
        "    else:\n",
        "      continue\n",
        "\n",
        "for i in range(2, 3163):\n",
        "  if check_list[i] == 0:\n",
        "    if N % i == 0:\n",
        "      while N % i == 0:\n",
        "        N = N / i\n",
        "        print(i)\n",
        "\n",
        "if not(N == 1):\n",
        "  print(int(N))"
      ],
      "metadata": {
        "id": "d70N2Mr69-ag"
      },
      "execution_count": null,
      "outputs": []
    }
  ]
}